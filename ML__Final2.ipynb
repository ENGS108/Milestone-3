{
  "nbformat": 4,
  "nbformat_minor": 0,
  "metadata": {
    "colab": {
      "name": "ML_ Final2.ipynb",
      "provenance": [],
      "collapsed_sections": []
    },
    "kernelspec": {
      "name": "python3",
      "display_name": "Python 3"
    },
    "language_info": {
      "name": "python"
    }
  },
  "cells": [
    {
      "cell_type": "markdown",
      "metadata": {
        "id": "nMt8-HzlsVTc"
      },
      "source": [
        "## Milestone 3\n"
      ]
    },
    {
      "cell_type": "markdown",
      "metadata": {
        "id": "HerlBKVCrqBP"
      },
      "source": [
        "Importing necessary libraries and printing summary of available datasets\n"
      ]
    },
    {
      "cell_type": "code",
      "metadata": {
        "id": "w-ko096x7oGG",
        "colab": {
          "base_uri": "https://localhost:8080/",
          "height": 1000
        },
        "outputId": "9dc7b9b0-ba72-4c52-87a3-174f36d2d926"
      },
      "source": [
        "!pip install pymatgen       #General materials science package\n",
        "!pip install matminer       #Machine learning materials science package\n",
        "!pip uninstall pandas       #One of the above installers seems to use an old version\n",
        "!pip install pandas==1.1.5  # of pandas that was causing some issues\n",
        "#Display available datasets from matminer\n",
        "from matminer.datasets import get_available_datasets\n",
        "get_available_datasets()"
      ],
      "execution_count": 3,
      "outputs": [
        {
          "output_type": "stream",
          "name": "stdout",
          "text": [
            "\u001b[31m  ERROR: Operation cancelled by user\u001b[0m\n",
            "Collecting pandas==1.1.5\n",
            "  Downloading pandas-1.1.5-cp37-cp37m-manylinux1_x86_64.whl (9.5 MB)\n",
            "\u001b[K     |████████████████████████████████| 9.5 MB 26.3 MB/s \n",
            "\u001b[?25hRequirement already satisfied: numpy>=1.15.4 in /usr/local/lib/python3.7/dist-packages (from pandas==1.1.5) (1.21.3)\n",
            "Requirement already satisfied: pytz>=2017.2 in /usr/local/lib/python3.7/dist-packages (from pandas==1.1.5) (2018.9)\n",
            "Requirement already satisfied: python-dateutil>=2.7.3 in /usr/local/lib/python3.7/dist-packages (from pandas==1.1.5) (2.8.2)\n",
            "Requirement already satisfied: six>=1.5 in /usr/local/lib/python3.7/dist-packages (from python-dateutil>=2.7.3->pandas==1.1.5) (1.16.0)\n",
            "Installing collected packages: pandas\n",
            "  Attempting uninstall: pandas\n",
            "    Found existing installation: pandas 1.3.4\n",
            "    Uninstalling pandas-1.3.4:\n",
            "      Successfully uninstalled pandas-1.3.4\n",
            "\u001b[31mERROR: pip's dependency resolver does not currently take into account all the packages that are installed. This behaviour is the source of the following dependency conflicts.\n",
            "matminer 0.7.4 requires pandas>=1.3.1, but you have pandas 1.1.5 which is incompatible.\n",
            "google-colab 1.0.0 requires requests~=2.23.0, but you have requests 2.26.0 which is incompatible.\n",
            "google-colab 1.0.0 requires six~=1.15.0, but you have six 1.16.0 which is incompatible.\u001b[0m\n",
            "Successfully installed pandas-1.1.5\n"
          ]
        },
        {
          "output_type": "display_data",
          "data": {
            "application/vnd.colab-display-data+json": {
              "pip_warning": {
                "packages": [
                  "pandas"
                ]
              }
            }
          },
          "metadata": {}
        },
        {
          "output_type": "stream",
          "name": "stdout",
          "text": [
            "boltztrap_mp: Effective mass and thermoelectric properties of 8924 compounds in The  Materials Project database that are calculated by the BoltzTraP software package run on the GGA-PBE or GGA+U density functional theory calculation results. The properties are reported at the temperature of 300 Kelvin and the carrier concentration of 1e18 1/cm3.\n",
            "\n",
            "brgoch_superhard_training: 2574 materials used for training regressors that predict shear and bulk modulus.\n",
            "\n",
            "castelli_perovskites: 18,928 perovskites generated with ABX combinatorics, calculating gllbsc band gap and pbe structure, and also reporting absolute band edge positions and heat of formation.\n",
            "\n",
            "citrine_thermal_conductivity: Thermal conductivity of 872 compounds measured experimentally and retrieved from Citrine database from various references. The reported values are measured at various temperatures of which 295 are at room temperature.\n",
            "\n",
            "dielectric_constant: 1,056 structures with dielectric properties, calculated with DFPT-PBE.\n",
            "\n",
            "double_perovskites_gap: Band gap of 1306 double perovskites (a_1-b_1-a_2-b_2-O6) calculated using ﻿Gritsenko, van Leeuwen, van Lenthe and Baerends potential (gllbsc) in GPAW.\n",
            "\n",
            "double_perovskites_gap_lumo: Supplementary lumo data of 55 atoms for the double_perovskites_gap dataset.\n",
            "\n",
            "elastic_tensor_2015: 1,181 structures with elastic properties calculated with DFT-PBE.\n",
            "\n",
            "expt_formation_enthalpy: Experimental formation enthalpies for inorganic compounds, collected from years of calorimetric experiments. There are 1,276 entries in this dataset, mostly binary compounds. Matching mpids or oqmdids as well as the DFT-computed formation energies are also added (if any).\n",
            "\n",
            "expt_formation_enthalpy_kingsbury: Dataset containing experimental standard formation enthalpies for solids. Formation enthalpies were compiled primarily from Kim et al., Kubaschewski, and the NIST JANAF tables (see references). Elements, liquids, and gases were excluded. Data were deduplicated such that each material is associated with a single formation enthalpy value. Refer to Wang et al. (see references) for a complete desciption of the methods used. Materials Project database IDs (mp-ids) were assigned to materials from among computed materials in the Materials Project database (version 2021.03.22) that were 1) not marked 'theoretical', 2) had structures matching at least one ICSD material, and 3) were within 200 meV of the DFT-computed stable energy hull (e_above_hull < 0.2 eV). Among these candidates, we chose the mp-id with the lowest e_above_hull that matched the reported spacegroup (where available).\n",
            "\n",
            "expt_gap: Experimental band gap of 6354 inorganic semiconductors.\n",
            "\n",
            "expt_gap_kingsbury: Identical to the matbench_expt_gap dataset, except that Materials Project database IDs (mp-ids) have been associated with each material using the same method as described for the expt_formation_enthalpy_kingsbury dataset. Columns have also been renamed for consistency with the formation enthalpy data.\n",
            "\n",
            "flla: 3938 structures and computed formation energies from \"Crystal Structure Representations for Machine Learning Models of Formation Energies.\"\n",
            "\n",
            "glass_binary: Metallic glass formation data for binary alloys, collected from various experimental techniques such as melt-spinning or mechanical alloying. This dataset covers all compositions with an interval of 5 at. % in 59 binary systems, containing a total of 5959 alloys in the dataset. The target property of this dataset is the glass forming ability (GFA), i.e. whether the composition can form monolithic glass or not, which is either 1 for glass forming or 0 for non-full glass forming.\n",
            "\n",
            "glass_binary_v2: Identical to glass_binary dataset, but with duplicate entries merged. If there was a disagreement in gfa when merging the class was defaulted to 1.\n",
            "\n",
            "glass_ternary_hipt: Metallic glass formation dataset for ternary alloys, collected from the high-throughput sputtering experiments measuring whether it is possible to form a glass using sputtering. The hipt experimental data are of the Co-Fe-Zr, Co-Ti-Zr, Co-V-Zr and Fe-Ti-Nb ternary systems.\n",
            "\n",
            "glass_ternary_landolt: Metallic glass formation dataset for ternary alloys, collected from the \"Nonequilibrium Phase Diagrams of Ternary Amorphous Alloys,’ a volume of the Landolt– Börnstein collection. This dataset contains experimental measurements of whether it is possible to form a glass using a variety of processing techniques at thousands of compositions from hundreds of ternary systems. The processing techniques are designated in the \"processing\" column. There are originally 7191 experiments in this dataset, will be reduced to 6203 after deduplicated, and will be further reduced to 6118 if combining multiple data for one composition. There are originally 6780 melt-spinning experiments in this dataset, will be reduced to 5800 if deduplicated, and will be further reduced to 5736 if combining multiple experimental data for one composition.\n",
            "\n",
            "heusler_magnetic: 1153 Heusler alloys with DFT-calculated magnetic and electronic properties. The 1153 alloys include 576 full, 449 half and 128 inverse Heusler alloys. The data are extracted and cleaned (including de-duplicating) from Citrine.\n",
            "\n",
            "jarvis_dft_2d: Various properties of 636 2D materials computed with the OptB88vdW and TBmBJ functionals taken from the JARVIS DFT database.\n",
            "\n",
            "jarvis_dft_3d: Various properties of 25,923 bulk materials computed with the OptB88vdW and TBmBJ functionals taken from the JARVIS DFT database.\n",
            "\n",
            "jarvis_ml_dft_training: Various properties of 24,759 bulk and 2D materials computed with the OptB88vdW and TBmBJ functionals taken from the JARVIS DFT database.\n",
            "\n",
            "m2ax: Elastic properties of 223 stable M2AX compounds from \"A comprehensive survey of M2AX phase elastic properties\" by Cover et al. Calculations are PAW PW91.\n",
            "\n",
            "matbench_dielectric: Matbench v0.1 test dataset for predicting refractive index from structure. Adapted from Materials Project database. Removed entries having a formation energy (or energy above the convex hull) more than 150meV and those having refractive indices less than 1 and those containing noble gases. Retrieved April 2, 2019. For benchmarking w/ nested cross validation, the order of the dataset must be identical to the retrieved data; refer to the Automatminer/Matbench publication for more details.\n",
            "\n",
            "matbench_expt_gap: Matbench v0.1 test dataset for predicting experimental band gap from composition alone. Retrieved from Zhuo et al. supplementary information. Deduplicated according to composition, removing compositions with reported band gaps spanning more than a 0.1eV range; remaining compositions were assigned values based on the closest experimental value to the mean experimental value for that composition among all reports. For benchmarking w/ nested cross validation, the order of the dataset must be identical to the retrieved data; refer to the Automatminer/Matbench publication for more details.\n",
            "\n",
            "matbench_expt_is_metal: Matbench v0.1 test dataset for classifying metallicity from composition alone. Retrieved from Zhuo et al. supplementary information. Deduplicated according to composition, ensuring no conflicting reports were entered for any compositions (i.e., no reported compositions were both metal and nonmetal). For benchmarking w/ nested cross validation, the order of the dataset must be identical to the retrieved data; refer to the Automatminer/Matbench publication for more details.\n",
            "\n",
            "matbench_glass: Matbench v0.1 test dataset for predicting full bulk metallic glass formation ability from chemical formula. Retrieved from \"Nonequilibrium Phase Diagrams of Ternary Amorphous Alloys,’ a volume of the Landolt– Börnstein collection. Deduplicated according to composition, ensuring no compositions were reported as both GFA and not GFA (i.e., all reports agreed on the classification designation). For benchmarking w/ nested cross validation, the order of the dataset must be identical to the retrieved data; refer to the Automatminer/Matbench publication for more details.\n",
            "\n",
            "matbench_jdft2d: Matbench v0.1 test dataset for predicting exfoliation energies from crystal structure (computed with the OptB88vdW and TBmBJ functionals). Adapted from the JARVIS DFT database. For benchmarking w/ nested cross validation, the order of the dataset must be identical to the retrieved data; refer to the Automatminer/Matbench publication for more details.\n",
            "\n",
            "matbench_log_gvrh: Matbench v0.1 test dataset for predicting DFT log10 VRH-average shear modulus from structure. Adapted from Materials Project database. Removed entries having a formation energy (or energy above the convex hull) more than 150meV and those having negative G_Voigt, G_Reuss, G_VRH, K_Voigt, K_Reuss, or K_VRH and those failing G_Reuss <= G_VRH <= G_Voigt or K_Reuss <= K_VRH <= K_Voigt and those containing noble gases. Retrieved April 2, 2019. For benchmarking w/ nested cross validation, the order of the dataset must be identical to the retrieved data; refer to the Automatminer/Matbench publication for more details.\n",
            "\n",
            "matbench_log_kvrh: Matbench v0.1 test dataset for predicting DFT log10 VRH-average bulk modulus from structure. Adapted from Materials Project database. Removed entries having a formation energy (or energy above the convex hull) more than 150meV and those having negative G_Voigt, G_Reuss, G_VRH, K_Voigt, K_Reuss, or K_VRH and those failing G_Reuss <= G_VRH <= G_Voigt or K_Reuss <= K_VRH <= K_Voigt and those containing noble gases. Retrieved April 2, 2019. For benchmarking w/ nested cross validation, the order of the dataset must be identical to the retrieved data; refer to the Automatminer/Matbench publication for more details.\n",
            "\n",
            "matbench_mp_e_form: Matbench v0.1 test dataset for predicting DFT formation energy from structure. Adapted from Materials Project database. Removed entries having formation energy more than 2.5eV and those containing noble gases. Retrieved April 2, 2019. For benchmarking w/ nested cross validation, the order of the dataset must be identical to the retrieved data; refer to the Automatminer/Matbench publication for more details.\n",
            "\n",
            "matbench_mp_gap: Matbench v0.1 test dataset for predicting DFT PBE band gap from structure. Adapted from Materials Project database. Removed entries having a formation energy (or energy above the convex hull) more than 150meV and those containing noble gases. Retrieved April 2, 2019. For benchmarking w/ nested cross validation, the order of the dataset must be identical to the retrieved data; refer to the Automatminer/Matbench publication for more details.\n",
            "\n",
            "matbench_mp_is_metal: Matbench v0.1 test dataset for predicting DFT metallicity from structure. Adapted from Materials Project database. Removed entries having a formation energy (or energy above the convex hull) more than 150meV and those containing noble gases. Retrieved April 2, 2019. For benchmarking w/ nested cross validation, the order of the dataset must be identical to the retrieved data; refer to the Automatminer/Matbench publication for more details.\n",
            "\n",
            "matbench_perovskites: Matbench v0.1 test dataset for predicting formation energy from crystal structure. Adapted from an original dataset generated by Castelli et al. For benchmarking w/ nested cross validation, the order of the dataset must be identical to the retrieved data; refer to the Automatminer/Matbench publication for more details.\n",
            "\n",
            "matbench_phonons: Matbench v0.1 test dataset for predicting vibration properties from crystal structure. Original data retrieved from Petretto et al. Original calculations done via ABINIT in the harmonic approximation based on density functional perturbation theory. Removed entries having a formation energy (or energy above the convex hull) more than 150meV. For benchmarking w/ nested cross validation, the order of the dataset must be identical to the retrieved data; refer to the Automatminer/Matbench publication for more details.\n",
            "\n",
            "matbench_steels: Matbench v0.1 test dataset for predicting steel yield strengths from chemical composition alone. Retrieved from Citrine informatics. Deduplicated. For benchmarking w/ nested cross validation, the order of the dataset must be identical to the retrieved data; refer to the Automatminer/Matbench publication for more details.\n",
            "\n",
            "mp_all_20181018: A complete copy of the Materials Project database as of 10/18/2018. mp_all files contain structure data for each material while mp_nostruct does not.\n",
            "\n",
            "mp_nostruct_20181018: A complete copy of the Materials Project database as of 10/18/2018. mp_all files contain structure data for each material while mp_nostruct does not.\n",
            "\n",
            "phonon_dielectric_mp: Phonon (lattice/atoms vibrations) and dielectric properties of 1296 compounds computed via ABINIT software package in the harmonic approximation based on density functional perturbation theory.\n",
            "\n",
            "piezoelectric_tensor: 941 structures with piezoelectric properties, calculated with DFT-PBE.\n",
            "\n",
            "ricci_boltztrap_mp_tabular: Ab-initio electronic transport database for inorganic materials. Complex multivariable BoltzTraP simulation data is condensed down into tabular form of two main motifs: average eigenvalues at set moderate carrier concentrations and temperatures, and optimal values among all carrier concentrations and temperatures within certain ranges. Here are reported the average of the eigenvalues of conductivity effective mass (mₑᶜᵒⁿᵈ), the Seebeck coefficient (S), the conductivity (σ), the electronic thermal conductivity (κₑ), and the Power Factor (PF) at a doping level of 10¹⁸ cm⁻³ and at a temperature of 300 K for n- and p-type. Also, the maximum values for S, σ, PF, and the minimum value for κₑ chosen among the temperatures [100, 1300] K, the doping levels [10¹⁶, 10²¹] cm⁻³, and doping types are reported. The properties that depend on the relaxation time are reported divided by the constant value 10⁻¹⁴. The average of the eigenvalues for all the properties at all the temperatures, doping levels, and doping types are reported in the tables for each entry. Data is indexed by materials project id (mpid)\n",
            "\n",
            "steel_strength: 312 steels with experimental yield strength and ultimate tensile strength, extracted and cleaned (including de-duplicating) from Citrine.\n",
            "\n",
            "wolverton_oxides: 4,914 perovskite oxides containing composition data, lattice constants, and formation + vacancy formation energies. All perovskites are of the form ABO3. Adapted from a dataset presented by Emery and Wolverton.\n",
            "\n",
            "\n"
          ]
        },
        {
          "output_type": "execute_result",
          "data": {
            "text/plain": [
              "['boltztrap_mp',\n",
              " 'brgoch_superhard_training',\n",
              " 'castelli_perovskites',\n",
              " 'citrine_thermal_conductivity',\n",
              " 'dielectric_constant',\n",
              " 'double_perovskites_gap',\n",
              " 'double_perovskites_gap_lumo',\n",
              " 'elastic_tensor_2015',\n",
              " 'expt_formation_enthalpy',\n",
              " 'expt_formation_enthalpy_kingsbury',\n",
              " 'expt_gap',\n",
              " 'expt_gap_kingsbury',\n",
              " 'flla',\n",
              " 'glass_binary',\n",
              " 'glass_binary_v2',\n",
              " 'glass_ternary_hipt',\n",
              " 'glass_ternary_landolt',\n",
              " 'heusler_magnetic',\n",
              " 'jarvis_dft_2d',\n",
              " 'jarvis_dft_3d',\n",
              " 'jarvis_ml_dft_training',\n",
              " 'm2ax',\n",
              " 'matbench_dielectric',\n",
              " 'matbench_expt_gap',\n",
              " 'matbench_expt_is_metal',\n",
              " 'matbench_glass',\n",
              " 'matbench_jdft2d',\n",
              " 'matbench_log_gvrh',\n",
              " 'matbench_log_kvrh',\n",
              " 'matbench_mp_e_form',\n",
              " 'matbench_mp_gap',\n",
              " 'matbench_mp_is_metal',\n",
              " 'matbench_perovskites',\n",
              " 'matbench_phonons',\n",
              " 'matbench_steels',\n",
              " 'mp_all_20181018',\n",
              " 'mp_nostruct_20181018',\n",
              " 'phonon_dielectric_mp',\n",
              " 'piezoelectric_tensor',\n",
              " 'ricci_boltztrap_mp_tabular',\n",
              " 'steel_strength',\n",
              " 'wolverton_oxides']"
            ]
          },
          "metadata": {},
          "execution_count": 3
        }
      ]
    },
    {
      "cell_type": "code",
      "metadata": {
        "colab": {
          "base_uri": "https://localhost:8080/"
        },
        "id": "8ZrLthLBgStg",
        "outputId": "ee32e19b-8f66-445b-99e9-9e38694efecb"
      },
      "source": [
        "from google.colab import drive\n",
        "drive.mount('/content/drive')"
      ],
      "execution_count": 5,
      "outputs": [
        {
          "output_type": "stream",
          "name": "stdout",
          "text": [
            "Mounted at /content/drive\n"
          ]
        }
      ]
    },
    {
      "cell_type": "markdown",
      "metadata": {
        "id": "8zEjHEa-rvAE"
      },
      "source": [
        "Exploring and loading datasets"
      ]
    },
    {
      "cell_type": "code",
      "metadata": {
        "id": "SI1-XTHWiZBM",
        "colab": {
          "base_uri": "https://localhost:8080/"
        },
        "outputId": "512f7c4a-ce37-4c0f-a5c2-5b38df9441af"
      },
      "source": [
        "from matminer.datasets import load_dataset\n",
        "from matminer.datasets import get_all_dataset_info\n",
        "\n",
        "df_DEC = load_dataset(\"dielectric_constant\")\n",
        "print(df_DEC.describe())\n",
        "dec_info = get_all_dataset_info(\"dielectric_constant\")\n",
        "print(dec_info)\n"
      ],
      "execution_count": 6,
      "outputs": [
        {
          "output_type": "stream",
          "name": "stdout",
          "text": [
            "Fetching dielectric_constant.json.gz from https://ndownloader.figshare.com/files/13213475 to /usr/local/lib/python3.7/dist-packages/matminer/datasets/dielectric_constant.json.gz\n"
          ]
        },
        {
          "output_type": "stream",
          "name": "stderr",
          "text": [
            "Fetching https://ndownloader.figshare.com/files/13213475 in MB: 0.8867839999999999MB [00:00, 157.72MB/s]      \n"
          ]
        },
        {
          "output_type": "stream",
          "name": "stdout",
          "text": [
            "            nsites  space_group  ...  poly_electronic   poly_total\n",
            "count  1056.000000  1056.000000  ...      1056.000000  1056.000000\n",
            "mean      7.530303   142.970644  ...         7.248049    14.777898\n",
            "std       3.388443    67.264591  ...        13.054947    19.435303\n",
            "min       2.000000     1.000000  ...         1.630000     2.080000\n",
            "25%       5.000000    82.000000  ...         3.130000     7.557500\n",
            "50%       8.000000   163.000000  ...         4.790000    10.540000\n",
            "75%       9.000000   194.000000  ...         7.440000    15.482500\n",
            "max      20.000000   229.000000  ...       256.840000   277.780000\n",
            "\n",
            "[8 rows x 7 columns]\n",
            "Dataset: dielectric_constant\n",
            "Description: 1,056 structures with dielectric properties, calculated with DFPT-PBE.\n",
            "Columns:\n",
            "\tband_gap: Measure of the conductivity of a material\n",
            "\tcif: optional: Description string for structure\n",
            "\te_electronic: electronic contribution to dielectric tensor\n",
            "\te_total: Total dielectric tensor incorporating both electronic and ionic contributions\n",
            "\tformula: Chemical formula of the material\n",
            "\tmaterial_id: Materials Project ID of the material\n",
            "\tmeta: optional, metadata descriptor of the datapoint\n",
            "\tn: Refractive Index\n",
            "\tnsites: The \\# of atoms in the unit cell of the calculation.\n",
            "\tpoly_electronic: the average of the eigenvalues of the electronic contribution to the dielectric tensor\n",
            "\tpoly_total: the average of the eigenvalues of the total (electronic and ionic) contributions to the dielectric tensor\n",
            "\tposcar: optional: Poscar metadata\n",
            "\tpot_ferroelectric: Whether the material is potentially ferroelectric\n",
            "\tspace_group: Integer specifying the crystallographic structure of the material\n",
            "\tstructure: pandas Series defining the structure of the material\n",
            "\tvolume: Volume of the unit cell in cubic angstroms, For supercell calculations, this quantity refers to the volume of the full supercell. \n",
            "Num Entries: 1056\n",
            "Reference: Petousis, I., Mrdjenovich, D., Ballouz, E., Liu, M., Winston, D.,\n",
            "Chen, W., Graf, T., Schladt, T. D., Persson, K. A. & Prinz, F. B.\n",
            "High-throughput screening of inorganic compounds for the discovery\n",
            "of novel dielectric and optical materials. Sci. Data 4, 160134 (2017).\n",
            "Bibtex citations: ['@Article{Petousis2017,\\nauthor={Petousis, Ioannis and Mrdjenovich, David and Ballouz, Eric\\nand Liu, Miao and Winston, Donald and Chen, Wei and Graf, Tanja\\nand Schladt, Thomas D. and Persson, Kristin A. and Prinz, Fritz B.},\\ntitle={High-throughput screening of inorganic compounds for the\\ndiscovery of novel dielectric and optical materials},\\njournal={Scientific Data},\\nyear={2017},\\nmonth={Jan},\\nday={31},\\npublisher={The Author(s)},\\nvolume={4},\\npages={160134},\\nnote={Data Descriptor},\\nurl={http://dx.doi.org/10.1038/sdata.2016.134}\\n}']\n",
            "File type: json.gz\n",
            "Figshare URL: https://ndownloader.figshare.com/files/13213475\n",
            "SHA256 Hash Digest: 8eb24812148732786cd7c657eccfc6b5ee66533429c2cfbcc4f0059c0295e8b6\n",
            "\n",
            "\n"
          ]
        }
      ]
    },
    {
      "cell_type": "markdown",
      "metadata": {
        "id": "uW6_5pH0uGDe"
      },
      "source": [
        "Expirementing with the featurization tools in MatMiner "
      ]
    },
    {
      "cell_type": "code",
      "metadata": {
        "id": "z4hGwGmOcpXH",
        "colab": {
          "base_uri": "https://localhost:8080/",
          "height": 511
        },
        "outputId": "9631fe35-87a3-4e10-d248-ec425bf76ba0"
      },
      "source": [
        "from pymatgen.core import Composition\n",
        "from matminer.featurizers.composition import ElementFraction\n",
        "from matminer.featurizers.conversions import StrToComposition\n",
        "from matminer.featurizers.structure import DensityFeatures\n",
        "import pandas as pd\n",
        "import numpy as np\n",
        "\n",
        "#Convert the strings from the 'formulas' column to pymatgen Composition objects\n",
        "stc = StrToComposition()\n",
        "featured_df = stc.featurize_dataframe(df_DEC, \"formula\")\n",
        "print(featured_df.head())\n",
        "\n",
        "#Featurize the Composition objects\n",
        "ef = ElementFraction()\n",
        "featured_df = ef.featurize_dataframe(featured_df, \"composition\")\n",
        "print(featured_df.head())\n",
        "\n",
        "#Featurize the pymatgen Structure objects\n",
        "denf = DensityFeatures()\n",
        "featured_df = denf.featurize_dataframe(featured_df, \"structure\")\n",
        "print(featured_df.head())\n",
        "\n",
        "print(\"\\nCleaning:  100%  ~~~~~~~~~~~~~~~~~~~~~~~~~~~~~~~~~~~~~~~~~~~~~~~~~\")\n",
        "#Remove non-integer columns\n",
        "clean_df = featured_df.drop([\"formula\", \"composition\", \"structure\", \"cif\",\"poscar\",\"meta\",\"e_electronic\", \"e_total\", \"poly_electronic\"], axis=1)\n",
        "#Remove any columns with all 0 values (from the composition featurization)\n",
        "cleaner_df = clean_df.loc[:, (clean_df != 0).any(axis=0)]\n",
        "#Move Target value to index 1 (after id number)\n",
        "cols = cleaner_df.columns.tolist()\n",
        "cols.remove('poly_total')\n",
        "cols.insert(1, 'poly_total')\n",
        "final_df = cleaner_df[cols]\n",
        "print(final_df.head())\n",
        "\n",
        "print(\"\\n--- Number of Columns ---\")\n",
        "print(\"Original: \", len(df_DEC.columns))\n",
        "print(\"Featurized: \", len(featured_df.columns))\n",
        "print(\"Cleaned: \", len(final_df.columns))\n",
        "print(\"--------------------------\")\n",
        "print(\"Number of Entries: \", len(final_df))\n",
        "print(\"__________________________\")\n"
      ],
      "execution_count": 9,
      "outputs": [
        {
          "output_type": "error",
          "ename": "ImportError",
          "evalue": "ignored",
          "traceback": [
            "\u001b[0;31m---------------------------------------------------------------------------\u001b[0m",
            "\u001b[0;31mImportError\u001b[0m                               Traceback (most recent call last)",
            "\u001b[0;32m<ipython-input-9-3c4faf8161c7>\u001b[0m in \u001b[0;36m<module>\u001b[0;34m()\u001b[0m\n\u001b[1;32m      1\u001b[0m \u001b[0;32mfrom\u001b[0m \u001b[0mpymatgen\u001b[0m\u001b[0;34m.\u001b[0m\u001b[0mcore\u001b[0m \u001b[0;32mimport\u001b[0m \u001b[0mComposition\u001b[0m\u001b[0;34m\u001b[0m\u001b[0;34m\u001b[0m\u001b[0m\n\u001b[0;32m----> 2\u001b[0;31m \u001b[0;32mfrom\u001b[0m \u001b[0mmatminer\u001b[0m\u001b[0;34m.\u001b[0m\u001b[0mfeaturizers\u001b[0m\u001b[0;34m.\u001b[0m\u001b[0mcomposition\u001b[0m \u001b[0;32mimport\u001b[0m \u001b[0mElementFraction\u001b[0m\u001b[0;34m\u001b[0m\u001b[0;34m\u001b[0m\u001b[0m\n\u001b[0m\u001b[1;32m      3\u001b[0m \u001b[0;32mfrom\u001b[0m \u001b[0mmatminer\u001b[0m\u001b[0;34m.\u001b[0m\u001b[0mfeaturizers\u001b[0m\u001b[0;34m.\u001b[0m\u001b[0mconversions\u001b[0m \u001b[0;32mimport\u001b[0m \u001b[0mStrToComposition\u001b[0m\u001b[0;34m\u001b[0m\u001b[0;34m\u001b[0m\u001b[0m\n\u001b[1;32m      4\u001b[0m \u001b[0;32mfrom\u001b[0m \u001b[0mmatminer\u001b[0m\u001b[0;34m.\u001b[0m\u001b[0mfeaturizers\u001b[0m\u001b[0;34m.\u001b[0m\u001b[0mstructure\u001b[0m \u001b[0;32mimport\u001b[0m \u001b[0mDensityFeatures\u001b[0m\u001b[0;34m\u001b[0m\u001b[0;34m\u001b[0m\u001b[0m\n\u001b[1;32m      5\u001b[0m \u001b[0;32mimport\u001b[0m \u001b[0mpandas\u001b[0m \u001b[0;32mas\u001b[0m \u001b[0mpd\u001b[0m\u001b[0;34m\u001b[0m\u001b[0;34m\u001b[0m\u001b[0m\n",
            "\u001b[0;32m/usr/local/lib/python3.7/dist-packages/matminer/featurizers/composition/__init__.py\u001b[0m in \u001b[0;36m<module>\u001b[0;34m()\u001b[0m\n\u001b[1;32m      3\u001b[0m \u001b[0;32mfrom\u001b[0m \u001b[0mmatminer\u001b[0m\u001b[0;34m.\u001b[0m\u001b[0mfeaturizers\u001b[0m\u001b[0;34m.\u001b[0m\u001b[0mcomposition\u001b[0m\u001b[0;34m.\u001b[0m\u001b[0mcomposite\u001b[0m \u001b[0;32mimport\u001b[0m \u001b[0mMeredig\u001b[0m\u001b[0;34m,\u001b[0m \u001b[0mElementProperty\u001b[0m\u001b[0;34m\u001b[0m\u001b[0;34m\u001b[0m\u001b[0m\n\u001b[1;32m      4\u001b[0m \u001b[0;34m\u001b[0m\u001b[0m\n\u001b[0;32m----> 5\u001b[0;31m \u001b[0;32mfrom\u001b[0m \u001b[0mmatminer\u001b[0m\u001b[0;34m.\u001b[0m\u001b[0mfeaturizers\u001b[0m\u001b[0;34m.\u001b[0m\u001b[0mcomposition\u001b[0m\u001b[0;34m.\u001b[0m\u001b[0malloy\u001b[0m \u001b[0;32mimport\u001b[0m \u001b[0mYangSolidSolution\u001b[0m\u001b[0;34m,\u001b[0m \u001b[0mMiedema\u001b[0m\u001b[0;34m,\u001b[0m \u001b[0mWenAlloys\u001b[0m\u001b[0;34m\u001b[0m\u001b[0;34m\u001b[0m\u001b[0m\n\u001b[0m\u001b[1;32m      6\u001b[0m \u001b[0;34m\u001b[0m\u001b[0m\n\u001b[1;32m      7\u001b[0m from matminer.featurizers.composition.ion import (\n",
            "\u001b[0;32m/usr/local/lib/python3.7/dist-packages/matminer/featurizers/composition/alloy.py\u001b[0m in \u001b[0;36m<module>\u001b[0;34m()\u001b[0m\n\u001b[1;32m     20\u001b[0m     \u001b[0mMixingEnthalpy\u001b[0m\u001b[0;34m,\u001b[0m\u001b[0;34m\u001b[0m\u001b[0;34m\u001b[0m\u001b[0m\n\u001b[1;32m     21\u001b[0m )\n\u001b[0;32m---> 22\u001b[0;31m \u001b[0;32mfrom\u001b[0m \u001b[0mmatminer\u001b[0m\u001b[0;34m.\u001b[0m\u001b[0mfeaturizers\u001b[0m\u001b[0;34m.\u001b[0m\u001b[0mcomposition\u001b[0m\u001b[0;34m.\u001b[0m\u001b[0mpacking\u001b[0m \u001b[0;32mimport\u001b[0m \u001b[0mAtomicPackingEfficiency\u001b[0m\u001b[0;34m\u001b[0m\u001b[0;34m\u001b[0m\u001b[0m\n\u001b[0m\u001b[1;32m     23\u001b[0m \u001b[0;34m\u001b[0m\u001b[0m\n\u001b[1;32m     24\u001b[0m \u001b[0mmodule_dir\u001b[0m \u001b[0;34m=\u001b[0m \u001b[0mos\u001b[0m\u001b[0;34m.\u001b[0m\u001b[0mpath\u001b[0m\u001b[0;34m.\u001b[0m\u001b[0mdirname\u001b[0m\u001b[0;34m(\u001b[0m\u001b[0mos\u001b[0m\u001b[0;34m.\u001b[0m\u001b[0mpath\u001b[0m\u001b[0;34m.\u001b[0m\u001b[0mabspath\u001b[0m\u001b[0;34m(\u001b[0m\u001b[0m__file__\u001b[0m\u001b[0;34m)\u001b[0m\u001b[0;34m)\u001b[0m\u001b[0;34m\u001b[0m\u001b[0;34m\u001b[0m\u001b[0m\n",
            "\u001b[0;32m/usr/local/lib/python3.7/dist-packages/matminer/featurizers/composition/packing.py\u001b[0m in \u001b[0;36m<module>\u001b[0;34m()\u001b[0m\n\u001b[1;32m      8\u001b[0m \u001b[0;32mimport\u001b[0m \u001b[0mnumpy\u001b[0m \u001b[0;32mas\u001b[0m \u001b[0mnp\u001b[0m\u001b[0;34m\u001b[0m\u001b[0;34m\u001b[0m\u001b[0m\n\u001b[1;32m      9\u001b[0m \u001b[0;32mfrom\u001b[0m \u001b[0mpymatgen\u001b[0m\u001b[0;34m.\u001b[0m\u001b[0mcore\u001b[0m\u001b[0;34m.\u001b[0m\u001b[0mcomposition\u001b[0m \u001b[0;32mimport\u001b[0m \u001b[0mComposition\u001b[0m\u001b[0;34m\u001b[0m\u001b[0;34m\u001b[0m\u001b[0m\n\u001b[0;32m---> 10\u001b[0;31m \u001b[0;32mfrom\u001b[0m \u001b[0msklearn\u001b[0m\u001b[0;34m.\u001b[0m\u001b[0mneighbors\u001b[0m \u001b[0;32mimport\u001b[0m \u001b[0mNearestNeighbors\u001b[0m\u001b[0;34m\u001b[0m\u001b[0;34m\u001b[0m\u001b[0m\n\u001b[0m\u001b[1;32m     11\u001b[0m \u001b[0;34m\u001b[0m\u001b[0m\n\u001b[1;32m     12\u001b[0m \u001b[0;32mfrom\u001b[0m \u001b[0mmatminer\u001b[0m\u001b[0;34m.\u001b[0m\u001b[0mfeaturizers\u001b[0m\u001b[0;34m.\u001b[0m\u001b[0mbase\u001b[0m \u001b[0;32mimport\u001b[0m \u001b[0mBaseFeaturizer\u001b[0m\u001b[0;34m\u001b[0m\u001b[0;34m\u001b[0m\u001b[0m\n",
            "\u001b[0;32m/usr/local/lib/python3.7/dist-packages/sklearn/neighbors/__init__.py\u001b[0m in \u001b[0;36m<module>\u001b[0;34m()\u001b[0m\n\u001b[1;32m      7\u001b[0m \u001b[0;32mfrom\u001b[0m \u001b[0;34m.\u001b[0m\u001b[0m_kd_tree\u001b[0m \u001b[0;32mimport\u001b[0m \u001b[0mKDTree\u001b[0m\u001b[0;34m\u001b[0m\u001b[0;34m\u001b[0m\u001b[0m\n\u001b[1;32m      8\u001b[0m \u001b[0;32mfrom\u001b[0m \u001b[0;34m.\u001b[0m\u001b[0m_dist_metrics\u001b[0m \u001b[0;32mimport\u001b[0m \u001b[0mDistanceMetric\u001b[0m\u001b[0;34m\u001b[0m\u001b[0;34m\u001b[0m\u001b[0m\n\u001b[0;32m----> 9\u001b[0;31m \u001b[0;32mfrom\u001b[0m \u001b[0;34m.\u001b[0m\u001b[0m_graph\u001b[0m \u001b[0;32mimport\u001b[0m \u001b[0mkneighbors_graph\u001b[0m\u001b[0;34m,\u001b[0m \u001b[0mradius_neighbors_graph\u001b[0m\u001b[0;34m\u001b[0m\u001b[0;34m\u001b[0m\u001b[0m\n\u001b[0m\u001b[1;32m     10\u001b[0m \u001b[0;32mfrom\u001b[0m \u001b[0;34m.\u001b[0m\u001b[0m_graph\u001b[0m \u001b[0;32mimport\u001b[0m \u001b[0mKNeighborsTransformer\u001b[0m\u001b[0;34m,\u001b[0m \u001b[0mRadiusNeighborsTransformer\u001b[0m\u001b[0;34m\u001b[0m\u001b[0;34m\u001b[0m\u001b[0m\n\u001b[1;32m     11\u001b[0m \u001b[0;32mfrom\u001b[0m \u001b[0;34m.\u001b[0m\u001b[0m_unsupervised\u001b[0m \u001b[0;32mimport\u001b[0m \u001b[0mNearestNeighbors\u001b[0m\u001b[0;34m\u001b[0m\u001b[0;34m\u001b[0m\u001b[0m\n",
            "\u001b[0;32m/usr/local/lib/python3.7/dist-packages/sklearn/neighbors/_graph.py\u001b[0m in \u001b[0;36m<module>\u001b[0;34m()\u001b[0m\n\u001b[1;32m      5\u001b[0m \u001b[0;31m#\u001b[0m\u001b[0;34m\u001b[0m\u001b[0;34m\u001b[0m\u001b[0;34m\u001b[0m\u001b[0m\n\u001b[1;32m      6\u001b[0m \u001b[0;31m# License: BSD 3 clause (C) INRIA, University of Amsterdam\u001b[0m\u001b[0;34m\u001b[0m\u001b[0;34m\u001b[0m\u001b[0;34m\u001b[0m\u001b[0m\n\u001b[0;32m----> 7\u001b[0;31m \u001b[0;32mfrom\u001b[0m \u001b[0;34m.\u001b[0m\u001b[0m_base\u001b[0m \u001b[0;32mimport\u001b[0m \u001b[0mKNeighborsMixin\u001b[0m\u001b[0;34m,\u001b[0m \u001b[0mRadiusNeighborsMixin\u001b[0m\u001b[0;34m\u001b[0m\u001b[0;34m\u001b[0m\u001b[0m\n\u001b[0m\u001b[1;32m      8\u001b[0m \u001b[0;32mfrom\u001b[0m \u001b[0;34m.\u001b[0m\u001b[0m_base\u001b[0m \u001b[0;32mimport\u001b[0m \u001b[0mNeighborsBase\u001b[0m\u001b[0;34m\u001b[0m\u001b[0;34m\u001b[0m\u001b[0m\n\u001b[1;32m      9\u001b[0m \u001b[0;32mfrom\u001b[0m \u001b[0;34m.\u001b[0m\u001b[0m_unsupervised\u001b[0m \u001b[0;32mimport\u001b[0m \u001b[0mNearestNeighbors\u001b[0m\u001b[0;34m\u001b[0m\u001b[0;34m\u001b[0m\u001b[0m\n",
            "\u001b[0;32m/usr/local/lib/python3.7/dist-packages/sklearn/neighbors/_base.py\u001b[0m in \u001b[0;36m<module>\u001b[0;34m()\u001b[0m\n\u001b[1;32m     33\u001b[0m \u001b[0;32mfrom\u001b[0m \u001b[0;34m.\u001b[0m\u001b[0;34m.\u001b[0m\u001b[0mutils\u001b[0m\u001b[0;34m.\u001b[0m\u001b[0mvalidation\u001b[0m \u001b[0;32mimport\u001b[0m \u001b[0mcheck_is_fitted\u001b[0m\u001b[0;34m\u001b[0m\u001b[0;34m\u001b[0m\u001b[0m\n\u001b[1;32m     34\u001b[0m \u001b[0;32mfrom\u001b[0m \u001b[0;34m.\u001b[0m\u001b[0;34m.\u001b[0m\u001b[0mutils\u001b[0m\u001b[0;34m.\u001b[0m\u001b[0mvalidation\u001b[0m \u001b[0;32mimport\u001b[0m \u001b[0mcheck_non_negative\u001b[0m\u001b[0;34m\u001b[0m\u001b[0;34m\u001b[0m\u001b[0m\n\u001b[0;32m---> 35\u001b[0;31m \u001b[0;32mfrom\u001b[0m \u001b[0;34m.\u001b[0m\u001b[0;34m.\u001b[0m\u001b[0mutils\u001b[0m\u001b[0;34m.\u001b[0m\u001b[0mfixes\u001b[0m \u001b[0;32mimport\u001b[0m \u001b[0mdelayed\u001b[0m\u001b[0;34m\u001b[0m\u001b[0;34m\u001b[0m\u001b[0m\n\u001b[0m\u001b[1;32m     36\u001b[0m \u001b[0;32mfrom\u001b[0m \u001b[0;34m.\u001b[0m\u001b[0;34m.\u001b[0m\u001b[0mutils\u001b[0m\u001b[0;34m.\u001b[0m\u001b[0mfixes\u001b[0m \u001b[0;32mimport\u001b[0m \u001b[0mparse_version\u001b[0m\u001b[0;34m\u001b[0m\u001b[0;34m\u001b[0m\u001b[0m\n\u001b[1;32m     37\u001b[0m \u001b[0;32mfrom\u001b[0m \u001b[0;34m.\u001b[0m\u001b[0;34m.\u001b[0m\u001b[0mexceptions\u001b[0m \u001b[0;32mimport\u001b[0m \u001b[0mDataConversionWarning\u001b[0m\u001b[0;34m,\u001b[0m \u001b[0mEfficiencyWarning\u001b[0m\u001b[0;34m\u001b[0m\u001b[0;34m\u001b[0m\u001b[0m\n",
            "\u001b[0;31mImportError\u001b[0m: cannot import name 'delayed' from 'sklearn.utils.fixes' (/usr/local/lib/python3.7/dist-packages/sklearn/utils/fixes.py)",
            "",
            "\u001b[0;31m---------------------------------------------------------------------------\u001b[0;32m\nNOTE: If your import is failing due to a missing package, you can\nmanually install dependencies using either !pip or !apt.\n\nTo view examples of installing some common dependencies, click the\n\"Open Examples\" button below.\n\u001b[0;31m---------------------------------------------------------------------------\u001b[0m\n"
          ],
          "errorDetails": {
            "actions": [
              {
                "action": "open_url",
                "actionText": "Open Examples",
                "url": "/notebooks/snippets/importing_libraries.ipynb"
              }
            ]
          }
        }
      ]
    },
    {
      "cell_type": "markdown",
      "metadata": {
        "id": "otKGqsRduy8W"
      },
      "source": [
        "Save datafram as CSV"
      ]
    },
    {
      "cell_type": "code",
      "metadata": {
        "id": "Hp29kXtvm9ZF"
      },
      "source": [
        "final_df.to_csv(\"final0.csv\", index=False)"
      ],
      "execution_count": null,
      "outputs": []
    },
    {
      "cell_type": "markdown",
      "metadata": {
        "id": "aAKCydv5_9cN"
      },
      "source": [
        "####Linear Regression without the Split to Observe Feature Significance"
      ]
    },
    {
      "cell_type": "code",
      "metadata": {
        "colab": {
          "base_uri": "https://localhost:8080/"
        },
        "id": "NDc7XBXIAcNY",
        "outputId": "4a74a91c-24ee-4b23-de45-7617f6516bc1"
      },
      "source": [
        "#from google.colab import drive\n",
        "#drive.mount('/content/drive')"
      ],
      "execution_count": null,
      "outputs": [
        {
          "output_type": "stream",
          "name": "stdout",
          "text": [
            "Mounted at /content/drive\n"
          ]
        }
      ]
    },
    {
      "cell_type": "code",
      "metadata": {
        "colab": {
          "base_uri": "https://localhost:8080/"
        },
        "id": "OG0kuywp_9GU",
        "outputId": "f3cecf17-8943-4957-9b76-7b8c91b0d589"
      },
      "source": [
        "#import pandas as pd\n",
        "#final_df = pd.read_csv(\"/content/drive/Shareddrives/ENGS108 Final Project/final0.csv\" )\n",
        "\n",
        "X = final_df.iloc[:,2:]\n",
        "y = final_df[\"poly_total\"]\n",
        "\n",
        "feature_list = final_df.iloc[:,2:].columns\n",
        "feature_list"
      ],
      "execution_count": null,
      "outputs": [
        {
          "output_type": "execute_result",
          "data": {
            "text/plain": [
              "Index(['nsites', 'space_group', 'volume', 'band_gap', 'n', 'pot_ferroelectric',\n",
              "       'H', 'Li', 'Be', 'B', 'C', 'N', 'O', 'F', 'Na', 'Mg', 'Al', 'Si', 'P',\n",
              "       'S', 'Cl', 'K', 'Ca', 'Sc', 'Ti', 'V', 'Cr', 'Mn', 'Fe', 'Co', 'Ni',\n",
              "       'Cu', 'Zn', 'Ga', 'Ge', 'As', 'Se', 'Br', 'Rb', 'Sr', 'Y', 'Zr', 'Nb',\n",
              "       'Mo', 'Ru', 'Rh', 'Pd', 'Ag', 'Cd', 'In', 'Sn', 'Sb', 'Te', 'I', 'Cs',\n",
              "       'Ba', 'La', 'Hf', 'Ta', 'W', 'Re', 'Os', 'Ir', 'Pt', 'Au', 'Hg', 'Tl',\n",
              "       'Pb', 'Bi', 'density', 'vpa', 'packing fraction'],\n",
              "      dtype='object')"
            ]
          },
          "metadata": {},
          "execution_count": 5
        }
      ]
    },
    {
      "cell_type": "code",
      "metadata": {
        "colab": {
          "base_uri": "https://localhost:8080/",
          "height": 423
        },
        "id": "PQwVv-lvATpN",
        "outputId": "c4202aa3-6f09-4358-e1f5-4a719e60f79b"
      },
      "source": [
        "# Importing the Sklearn LinerRegression module\n",
        "from sklearn.linear_model import LinearRegression\n",
        "\n",
        "# Fitting a liner regression to our data\n",
        "reg = LinearRegression().fit(X, y)\n",
        "\n",
        "# Forming a data frame from the coefficients\n",
        "coefs = pd.DataFrame(\n",
        "    reg.coef_,\n",
        "    columns=[\"Coefficients\"],\n",
        "    index=feature_list,\n",
        ")\n",
        "\n",
        "coefs"
      ],
      "execution_count": null,
      "outputs": [
        {
          "output_type": "execute_result",
          "data": {
            "text/html": [
              "<div>\n",
              "<style scoped>\n",
              "    .dataframe tbody tr th:only-of-type {\n",
              "        vertical-align: middle;\n",
              "    }\n",
              "\n",
              "    .dataframe tbody tr th {\n",
              "        vertical-align: top;\n",
              "    }\n",
              "\n",
              "    .dataframe thead th {\n",
              "        text-align: right;\n",
              "    }\n",
              "</style>\n",
              "<table border=\"1\" class=\"dataframe\">\n",
              "  <thead>\n",
              "    <tr style=\"text-align: right;\">\n",
              "      <th></th>\n",
              "      <th>Coefficients</th>\n",
              "    </tr>\n",
              "  </thead>\n",
              "  <tbody>\n",
              "    <tr>\n",
              "      <th>nsites</th>\n",
              "      <td>-0.028407</td>\n",
              "    </tr>\n",
              "    <tr>\n",
              "      <th>space_group</th>\n",
              "      <td>0.002291</td>\n",
              "    </tr>\n",
              "    <tr>\n",
              "      <th>volume</th>\n",
              "      <td>0.008170</td>\n",
              "    </tr>\n",
              "    <tr>\n",
              "      <th>band_gap</th>\n",
              "      <td>0.531409</td>\n",
              "    </tr>\n",
              "    <tr>\n",
              "      <th>n</th>\n",
              "      <td>16.041024</td>\n",
              "    </tr>\n",
              "    <tr>\n",
              "      <th>...</th>\n",
              "      <td>...</td>\n",
              "    </tr>\n",
              "    <tr>\n",
              "      <th>Pb</th>\n",
              "      <td>26.239685</td>\n",
              "    </tr>\n",
              "    <tr>\n",
              "      <th>Bi</th>\n",
              "      <td>35.951671</td>\n",
              "    </tr>\n",
              "    <tr>\n",
              "      <th>density</th>\n",
              "      <td>1.196058</td>\n",
              "    </tr>\n",
              "    <tr>\n",
              "      <th>vpa</th>\n",
              "      <td>-0.030749</td>\n",
              "    </tr>\n",
              "    <tr>\n",
              "      <th>packing fraction</th>\n",
              "      <td>4.159720</td>\n",
              "    </tr>\n",
              "  </tbody>\n",
              "</table>\n",
              "<p>72 rows × 1 columns</p>\n",
              "</div>"
            ],
            "text/plain": [
              "                  Coefficients\n",
              "nsites               -0.028407\n",
              "space_group           0.002291\n",
              "volume                0.008170\n",
              "band_gap              0.531409\n",
              "n                    16.041024\n",
              "...                        ...\n",
              "Pb                   26.239685\n",
              "Bi                   35.951671\n",
              "density               1.196058\n",
              "vpa                  -0.030749\n",
              "packing fraction      4.159720\n",
              "\n",
              "[72 rows x 1 columns]"
            ]
          },
          "metadata": {},
          "execution_count": 6
        }
      ]
    },
    {
      "cell_type": "code",
      "metadata": {
        "colab": {
          "base_uri": "https://localhost:8080/",
          "height": 423
        },
        "id": "TorbYUZaA6dD",
        "outputId": "5161157b-66cc-4112-ac5e-43ed8685394e"
      },
      "source": [
        "# Taking the absolute value of coefficients to sort them later\n",
        "absolute_coefs = coefs.abs()\n",
        "\n",
        "# Sorting the coefficients \n",
        "sorted_coefs = absolute_coefs.sort_values(by=\"Coefficients\",ascending=False)\n",
        "sorted_coefs"
      ],
      "execution_count": null,
      "outputs": [
        {
          "output_type": "execute_result",
          "data": {
            "text/html": [
              "<div>\n",
              "<style scoped>\n",
              "    .dataframe tbody tr th:only-of-type {\n",
              "        vertical-align: middle;\n",
              "    }\n",
              "\n",
              "    .dataframe tbody tr th {\n",
              "        vertical-align: top;\n",
              "    }\n",
              "\n",
              "    .dataframe thead th {\n",
              "        text-align: right;\n",
              "    }\n",
              "</style>\n",
              "<table border=\"1\" class=\"dataframe\">\n",
              "  <thead>\n",
              "    <tr style=\"text-align: right;\">\n",
              "      <th></th>\n",
              "      <th>Coefficients</th>\n",
              "    </tr>\n",
              "  </thead>\n",
              "  <tbody>\n",
              "    <tr>\n",
              "      <th>Rh</th>\n",
              "      <td>61.189066</td>\n",
              "    </tr>\n",
              "    <tr>\n",
              "      <th>Zr</th>\n",
              "      <td>58.252436</td>\n",
              "    </tr>\n",
              "    <tr>\n",
              "      <th>Pt</th>\n",
              "      <td>56.632733</td>\n",
              "    </tr>\n",
              "    <tr>\n",
              "      <th>Tl</th>\n",
              "      <td>53.995642</td>\n",
              "    </tr>\n",
              "    <tr>\n",
              "      <th>Os</th>\n",
              "      <td>43.843995</td>\n",
              "    </tr>\n",
              "    <tr>\n",
              "      <th>...</th>\n",
              "      <td>...</td>\n",
              "    </tr>\n",
              "    <tr>\n",
              "      <th>V</th>\n",
              "      <td>0.065534</td>\n",
              "    </tr>\n",
              "    <tr>\n",
              "      <th>vpa</th>\n",
              "      <td>0.030749</td>\n",
              "    </tr>\n",
              "    <tr>\n",
              "      <th>nsites</th>\n",
              "      <td>0.028407</td>\n",
              "    </tr>\n",
              "    <tr>\n",
              "      <th>volume</th>\n",
              "      <td>0.008170</td>\n",
              "    </tr>\n",
              "    <tr>\n",
              "      <th>space_group</th>\n",
              "      <td>0.002291</td>\n",
              "    </tr>\n",
              "  </tbody>\n",
              "</table>\n",
              "<p>72 rows × 1 columns</p>\n",
              "</div>"
            ],
            "text/plain": [
              "             Coefficients\n",
              "Rh              61.189066\n",
              "Zr              58.252436\n",
              "Pt              56.632733\n",
              "Tl              53.995642\n",
              "Os              43.843995\n",
              "...                   ...\n",
              "V                0.065534\n",
              "vpa              0.030749\n",
              "nsites           0.028407\n",
              "volume           0.008170\n",
              "space_group      0.002291\n",
              "\n",
              "[72 rows x 1 columns]"
            ]
          },
          "metadata": {},
          "execution_count": 7
        }
      ]
    },
    {
      "cell_type": "code",
      "metadata": {
        "colab": {
          "base_uri": "https://localhost:8080/",
          "height": 1000
        },
        "id": "b6_LtxdQBDWb",
        "outputId": "ec49a44e-40ea-4a73-fe55-163a41ec1bd5"
      },
      "source": [
        "import matplotlib.pyplot as plt\n",
        "\n",
        "sorted_coefs.plot(kind=\"barh\", figsize=(9, 35))\n",
        "plt.title(\"Absolute Value of Coeefficients in Linear Regression to Observe Feature Significance\")\n",
        "plt.axvline(x=0, color=\".5\")\n",
        "plt.subplots_adjust(left=0.3)\n"
      ],
      "execution_count": null,
      "outputs": [
        {
          "output_type": "display_data",
          "data": {
            "image/png": "[encoded data removed]",
            "text/plain": [
              "<Figure size 648x2520 with 1 Axes>"
            ]
          },
          "metadata": {
            "needs_background": "light"
          }
        }
      ]
    },
    {
      "cell_type": "markdown",
      "metadata": {
        "id": "ngWN7ebkBK5L"
      },
      "source": [
        "Features with the smallest impact are: V, vpa, nsites, volume, space_group.\n",
        "\n",
        "We can use this information later on as build on neural networks."
      ]
    },
    {
      "cell_type": "code",
      "metadata": {
        "id": "PRupDenPBI54"
      },
      "source": [
        ""
      ],
      "execution_count": null,
      "outputs": []
    },
    {
      "cell_type": "markdown",
      "metadata": {
        "id": "ztttrXfyEEg9"
      },
      "source": [
        "Train/Valid Split (for later...)"
      ]
    },
    {
      "cell_type": "code",
      "metadata": {
        "id": "P128gnAPeJ8q"
      },
      "source": [
        "import numpy as np\n",
        "from keras.models import Sequential\n",
        "from keras.layers import Dense\n",
        "from tensorflow.keras.optimizers import Adam\n",
        "import tensorflow as tf\n",
        "import pandas as pd\n",
        "from sklearn.metrics import mean_squared_error\n",
        "import matplotlib.pyplot as plt"
      ],
      "execution_count": 48,
      "outputs": []
    },
    {
      "cell_type": "code",
      "metadata": {
        "id": "T0XEeZEXRl47"
      },
      "source": [
        "final_df = pd.read_csv('/content/drive/Shareddrives/ENGS108 Final Project/final0.csv')  \n",
        "df = final_df.drop(columns=['material_id', 'V', 'vpa', 'nsites', 'volume', 'space_group'])\n",
        "df[\"pot_ferroelectric\"] = df[\"pot_ferroelectric\"].astype(int)\n",
        "\n",
        "STEP = 0.01\n",
        "\n",
        "if step:\n",
        "    step = int(1 / step)\n",
        "# train test split\n",
        "train = df.iloc[:850,:]\n",
        "valid = df.iloc[851:,:]\n",
        "test = valid.iloc[151:,:]\n",
        "valid = valid.iloc[:150,:]\n",
        "\n",
        "# remove label from x\n",
        "x_train = train.drop(columns=['poly_total'])\n",
        "x_train = x_train.to_numpy()\n",
        "\n",
        "# get label\n",
        "y_train0 = train['poly_total'].values\n",
        "\n",
        "# turn to integers (0 decimal places)\n",
        "if step:\n",
        "    # turn to integers (0 decimal places)\n",
        "    y_train0 = np.array([int(i * step) for i in y_train0])\n",
        "\n",
        "    # one hot encode\n",
        "    y_train = np.zeros((850, 300 * step))\n",
        "    arg = np.arange(y_train0.size)\n",
        "    y_train[arg, y_train0] = 1\n",
        "else:\n",
        "    y_train0 = np.array([int(i) for i in y_train0])\n",
        "\n",
        "    y_train = np.zeros((850, 300))\n",
        "    arg = np.arange(y_train0.size)\n",
        "    y_train[arg, y_train0] = 1\n",
        "\n",
        "\n",
        "\n",
        "# same as train\n",
        "x_valid = valid.drop(columns=['poly_total'])\n",
        "x_valid = x_valid.to_numpy()\n",
        "y_valid0 = valid['poly_total'].values\n",
        "if step:\n",
        "    y_valid0 = np.array([int(i * step) for i in y_valid0])\n",
        "    y_valid = np.zeros((150, 300 * step))\n",
        "    argv = np.arange(y_valid0.size)\n",
        "    y_valid[argv, y_valid0] = 1\n",
        "else:\n",
        "    y_valid0 = np.array([int(i) for i in y_valid0])\n",
        "    y_valid = np.zeros((150, 300))\n",
        "    argv = np.arange(y_valid0.size)\n",
        "    y_valid[argv, y_valid0] = 1\n",
        "\n",
        "\n",
        "# same as train\n",
        "x_test = test.drop(columns=['poly_total'])\n",
        "x_test = x_test.to_numpy()\n",
        "y_test0 = test['poly_total'].values\n",
        "if step:\n",
        "    y_test0 = np.array([int(i * step) for i in y_test0])\n",
        "    y_test = np.zeros((54, 300 * step))\n",
        "    argvt = np.arange(y_test0.size)\n",
        "    y_test[argvt, y_test0] = 1\n",
        "else:\n",
        "    y_test0 = np.array([int(i) for i in y_test0])\n",
        "    y_test = np.zeros((54, 300))\n",
        "    argvt = np.arange(y_test0.size)\n",
        "    y_test[argvt, y_test0] = 1\n",
        "\n"
      ],
      "execution_count": 62,
      "outputs": []
    },
    {
      "cell_type": "code",
      "metadata": {
        "id": "A0YiHelkeVhh"
      },
      "source": [
        "class model:\n",
        "    \n",
        "    # step is accuracy you want the model to go to\n",
        "    # eg: 1 for integers, 0.1 for 1 decimal place, and 0.01 for 2 decimal places\n",
        "    def __init__(self, number_of_features, dielectric_max_val, steps=False):\n",
        "        self.number_of_features = number_of_features\n",
        "        self.dielectric_max_val = dielectric_max_val\n",
        "        self.steps = steps\n",
        "        self.model = self.make_model()\n",
        "\n",
        "    def make_model(self):\n",
        "        model = Sequential()\n",
        "\n",
        "        # if step is defined\n",
        "        if self.steps:\n",
        "\n",
        "            # input layer\n",
        "            model.add(Dense(16, input_shape= (None, self.number_of_features)), activation='relu')\n",
        "\n",
        "            # hidden layer\n",
        "            model.add(Dense(32, activation='linear'))\n",
        "\n",
        "            # output hidden layer\n",
        "            model.add(Dense(int(self.dielectric_max_val * 1 / self.steps), activation='linear'))\n",
        "\n",
        "        else:\n",
        "            # input layer\n",
        "            model.add(Dense(16, input_shape=(None, self.number_of_features), activation='relu'))\n",
        "\n",
        "            # hidden layer\n",
        "            model.add(Dense(32, activation='linear'))\n",
        "\n",
        "            # output hidden layer\n",
        "            model.add(Dense(self.dielectric_max_val, activation='linear'))\n",
        "\n",
        "        # compile\n",
        "        model.compile(loss=\"mse\", optimizer='Adam')\n",
        "\n",
        "        return model\n",
        "\n",
        "    def fit_model(self, x_train, y_train, x_valid, y_valid,):\n",
        "\n",
        "        # suppress warnings\n",
        "        tf.compat.v1.logging.set_verbosity(tf.compat.v1.logging.ERROR)\n",
        "\n",
        "        # fit model\n",
        "        self.model.fit(x=x_train, y=y_train, validation_data=(x_valid, y_valid), epochs=20, verbose=0)\n",
        "\n",
        "    def predict(self, x_test, y_test):\n",
        "\n",
        "        # predict the test set\n",
        "        y_predicted = self.model.predict(x_test)\n",
        "        mse = mean_squared_error(y_test, y_predicted)\n",
        "        rmse = np.sqrt(mse)\n",
        "\n",
        "        print(f\"Mean Squared Error = {mse}\")\n",
        "        print(f\"Root Mean Squared Error(rmse) = {rmse}. The predicted dielectric constant is the actual dielectric constant +/- rmse\")\n",
        "\n",
        "        plt.plot(range(len(y_predicted)), np.argmax(y_test, axis=1), lw=0.8, color=\"blue\", label=\"Actual Val\")\n",
        "        plt.plot(range(len(y_predicted)), np.argmax(y_predicted, axis=1), lw=0.8, color=\"red\", label=\"Predicted Val\")\n",
        "        plt.legend()\n",
        "        plt.show()"
      ],
      "execution_count": 50,
      "outputs": []
    },
    {
      "cell_type": "code",
      "metadata": {
        "id": "F6TzgrAso47E"
      },
      "source": [
        "final_df = pd.read_csv('/content/drive/Shareddrives/ENGS108 Final Project/final0.csv')  \n",
        "df = final_df.drop(columns=['material_id', 'V', 'vpa', 'nsites', 'volume', 'space_group'])\n",
        "df[\"pot_ferroelectric\"] = df[\"pot_ferroelectric\"].astype(int)"
      ],
      "execution_count": 51,
      "outputs": []
    },
    {
      "cell_type": "code",
      "metadata": {
        "colab": {
          "base_uri": "https://localhost:8080/",
          "height": 299
        },
        "id": "zKXWKxyCeY_i",
        "outputId": "518e368c-2b36-4f45-d805-87eb3c27b8d0"
      },
      "source": [
        "regression = model(67, 300, STEP)\n",
        "regression.fit_model(x_train, y_train, x_valid, y_valid)\n",
        "regression.predict(x_test, y_test)"
      ],
      "execution_count": 65,
      "outputs": [
        {
          "output_type": "stream",
          "name": "stdout",
          "text": [
            "Mean Squared Error = 0.003156799539413256\n",
            "Root Mean Squared Error(rmse) = 0.05618540325932756. The predicted dielectric constant is the actual dielectric constant +/- rmse\n"
          ]
        },
        {
          "output_type": "display_data",
          "data": {
            "image/png": "[encoded data removed]",
            "text/plain": [
              "<Figure size 432x288 with 1 Axes>"
            ]
          },
          "metadata": {
            "needs_background": "light"
          }
        }
      ]
    }
  ]
}